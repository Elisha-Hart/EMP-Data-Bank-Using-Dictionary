{
 "cells": [
  {
   "cell_type": "code",
   "execution_count": 19,
   "id": "05dcab5b-3ea2-44f2-b77a-5dd60746b3ec",
   "metadata": {},
   "outputs": [
    {
     "name": "stdout",
     "output_type": "stream",
     "text": [
      "{'name': ['Anthony Brown', 'Karen Clark'], 'id': [527, 528], 'pay': [22.12, 24.15], 'phone': [7065635060, 7063158847], 'email': [['anthonybrown@gmail.com', 'karenc@yahoo.com'], ['anthonybrown@gmail.com', 'karenc@yahoo.com']]}\n"
     ]
    }
   ],
   "source": [
    "### Develop EMP Data Bank Using Dictionary\n",
    "\n",
    "id = [527, 528]\n",
    "names = ['Anthony Brown', 'Karen Clark']\n",
    "pay = [22.12, 24.15]\n",
    "phone = [7065635060, 7063158847]\n",
    "email = ['anthonybrown@gmail.com', 'karenc@yahoo.com']\n",
    "\n",
    "data = {'name' : [],\n",
    "        'id' : [],\n",
    "        'pay' : [],\n",
    "        'phone' : [],\n",
    "        'email' : []\n",
    "       }\n",
    "\n",
    "for name in names:\n",
    "    data['name'].append(name)\n",
    "for id in id:\n",
    "    data['id'].append(id)\n",
    "for pay in pay:\n",
    "    data['pay'].append(pay)\n",
    "for phone in phone:\n",
    "    data['phone'].append(phone)\n",
    "for raisedwage in raisedwages:\n",
    "    data['email'].append(email)\n",
    "    \n",
    "print(data)"
   ]
  },
  {
   "cell_type": "code",
   "execution_count": null,
   "id": "dcede5e5-3ea5-4b7a-a46d-403b42d322fc",
   "metadata": {},
   "outputs": [],
   "source": []
  }
 ],
 "metadata": {
  "kernelspec": {
   "display_name": "anaconda-2022.05-py39",
   "language": "python",
   "name": "conda-env-anaconda-2022.05-py39-py"
  },
  "language_info": {
   "codemirror_mode": {
    "name": "ipython",
    "version": 3
   },
   "file_extension": ".py",
   "mimetype": "text/x-python",
   "name": "python",
   "nbconvert_exporter": "python",
   "pygments_lexer": "ipython3",
   "version": "3.9.12"
  }
 },
 "nbformat": 4,
 "nbformat_minor": 5
}
